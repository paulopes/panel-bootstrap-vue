{
 "cells": [
  {
   "cell_type": "code",
   "execution_count": null,
   "metadata": {},
   "outputs": [],
   "source": [
    "from panel_bootstrap_vue.page import page"
   ]
  },
  {
   "cell_type": "code",
   "execution_count": null,
   "metadata": {},
   "outputs": [],
   "source": [
    "from panel_components.component import Component"
   ]
  },
  {
   "cell_type": "code",
   "execution_count": null,
   "metadata": {},
   "outputs": [],
   "source": [
    "population_pivot_table = Component()\n",
    "population_pivot_table.component_data(\n",
    "    postfix=\"\"\"\n",
    "        fields: [],\n",
    "        rowFields: [{\n",
    "          getter: item => item.country,\n",
    "          label: 'Country'\n",
    "        }, {\n",
    "          getter: item => item.gender,\n",
    "          label: 'Gender'\n",
    "        }],\n",
    "        colFields: [{\n",
    "          getter: item => item.year,\n",
    "          label: 'Year'\n",
    "        }],\n",
    "        reducer: (sum, item) => sum + item.count,\n",
    "        defaultShowSettings: false\n",
    "    \"\"\",\n",
    ")\n",
    "population_pivot_table.prepend_html('''\n",
    "  <div class=\"mb-5\">\n",
    "    <pivot :data=\"''' + population_pivot_table.id + '''.data\"\n",
    "           :fields=\"''' + population_pivot_table.id + '''.fields\"\n",
    "           :row-fields=\"''' + population_pivot_table.id + '''.rowFields\"\n",
    "           :col-fields=\"''' + population_pivot_table.id + '''.colFields\"\n",
    "           :reducer=\"''' + population_pivot_table.id + '''.reducer\"\n",
    "           :default-show-settings=\"''' + population_pivot_table.id + '''.defaultShowSettings\"\n",
    "    >\n",
    "      <template slot=\"value\" slot-scope=\"{ value }\">\n",
    "        {{ value.toLocaleString() }}\n",
    "      </template>\n",
    "    </pivot>\n",
    "  </div>\n",
    "''')\n",
    "population_pivot_table.append_body_script(vue_pivot=\"Vue.use(VuePivot)\")\n",
    "population_pivot_table.append_body_js(vue_pivot=\"vue/vue-pivot-table-0.3.0.browser.js\")"
   ]
  },
  {
   "cell_type": "code",
   "execution_count": null,
   "metadata": {},
   "outputs": [],
   "source": [
    "ui = page(\n",
    "    population_pivot_table.data([\n",
    "        {\"country\": \"United States\", \"year\": 2010, \"gender\": \"male\", \"count\": 153295220},\n",
    "        {\"country\": \"United States\", \"year\": 2010, \"gender\": \"female\", \"count\": 156588400},\n",
    "        {\"country\": \"United States\", \"year\": 2011, \"gender\": \"male\", \"count\": 154591960},\n",
    "        {\"country\": \"United States\", \"year\": 2011, \"gender\": \"female\", \"count\": 157800200},\n",
    "        {\"country\": \"United States\", \"year\": 2012, \"gender\": \"male\", \"count\": 155851840},\n",
    "        {\"country\": \"United States\", \"year\": 2012, \"gender\": \"female\", \"count\": 158944800},\n",
    "        {\"country\": \"China\", \"year\": 2010, \"gender\": \"male\", \"count\": 690256342},\n",
    "        {\"country\": \"China\", \"year\": 2010, \"gender\": \"female\", \"count\": 650712406},\n",
    "        {\"country\": \"China\", \"year\": 2011, \"gender\": \"male\", \"count\": 694106441},\n",
    "        {\"country\": \"China\", \"year\": 2011, \"gender\": \"female\", \"count\": 654068030},\n",
    "        {\"country\": \"China\", \"year\": 2012, \"gender\": \"male\", \"count\": 697964288},\n",
    "        {\"country\": \"China\", \"year\": 2012, \"gender\": \"female\", \"count\": 657422649},\n",
    "        {\"country\": \"India\", \"year\": 2010, \"gender\": \"male\", \"count\": 638354751},\n",
    "        {\"country\": \"India\", \"year\": 2010, \"gender\": \"female\", \"count\": 592629727},\n",
    "        {\"country\": \"India\", \"year\": 2011, \"gender\": \"male\", \"count\": 646873890},\n",
    "        {\"country\": \"India\", \"year\": 2011, \"gender\": \"female\", \"count\": 600572093},\n",
    "        {\"country\": \"India\", \"year\": 2012, \"gender\": \"male\", \"count\": 655193693},\n",
    "        {\"country\": \"India\", \"year\": 2012, \"gender\": \"female\", \"count\": 608395922},\n",
    "        {\"country\": \"France\", \"year\": 2010, \"gender\": \"male\", \"count\": 30675773},\n",
    "        {\"country\": \"France\", \"year\": 2010, \"gender\": \"female\", \"count\": 32285363},\n",
    "        {\"country\": \"France\", \"year\": 2011, \"gender\": \"male\", \"count\": 30815839},\n",
    "        {\"country\": \"France\", \"year\": 2011, \"gender\": \"female\", \"count\": 32452566},\n",
    "        {\"country\": \"France\", \"year\": 2012, \"gender\": \"male\", \"count\": 30948916},\n",
    "        {\"country\": \"France\", \"year\": 2012, \"gender\": \"female\", \"count\": 32612882}\n",
    "    ])\n",
    ")"
   ]
  },
  {
   "cell_type": "code",
   "execution_count": null,
   "metadata": {},
   "outputs": [],
   "source": [
    "app = ui.servable()"
   ]
  },
  {
   "cell_type": "code",
   "execution_count": null,
   "metadata": {},
   "outputs": [],
   "source": [
    "app"
   ]
  },
  {
   "cell_type": "code",
   "execution_count": null,
   "metadata": {},
   "outputs": [],
   "source": []
  }
 ],
 "metadata": {
  "kernelspec": {
   "display_name": "Python 3",
   "language": "python",
   "name": "python3"
  },
  "language_info": {
   "codemirror_mode": {
    "name": "ipython",
    "version": 3
   },
   "file_extension": ".py",
   "mimetype": "text/x-python",
   "name": "python",
   "nbconvert_exporter": "python",
   "pygments_lexer": "ipython3",
   "version": "3.7.7"
  }
 },
 "nbformat": 4,
 "nbformat_minor": 4
}
